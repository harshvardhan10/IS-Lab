{
 "cells": [
  {
   "cell_type": "code",
   "execution_count": 2,
   "metadata": {
    "button": false,
    "colab": {},
    "colab_type": "code",
    "id": "rR61dnPZF6nD",
    "new_sheet": false,
    "run_control": {
     "read_only": false
    }
   },
   "outputs": [],
   "source": [
    "#importing relevant libraries\n",
    "import matplotlib.pyplot as plt\n",
    "import numpy as np\n",
    "import pandas as pd\n",
    "import matplotlib.ticker as ticker\n",
    "from sklearn.model_selection import train_test_split\n",
    "from sklearn.tree import DecisionTreeClassifier\n",
    "from sklearn import metrics\n",
    "#importing iris dataset\n",
    "from sklearn.datasets import load_iris\n",
    "%matplotlib inline"
   ]
  },
  {
   "cell_type": "code",
   "execution_count": 3,
   "metadata": {},
   "outputs": [],
   "source": [
    "#load dataset\n",
    "data_iris = load_iris()\n",
    "\n",
    "#Assign features and target labels to respective variables\n",
    "X, y = data_iris['data'], data_iris['target']"
   ]
  },
  {
   "cell_type": "code",
   "execution_count": 8,
   "metadata": {},
   "outputs": [],
   "source": [
    "#train-test split\n",
    "test_sizes = [0.1, 0.15, 0.2, 0.25, 0.3]\n",
    "\n",
    "#different criterion\n",
    "criterion = ['gini', 'entropy']"
   ]
  },
  {
   "cell_type": "code",
   "execution_count": 17,
   "metadata": {},
   "outputs": [
    {
     "name": "stdout",
     "output_type": "stream",
     "text": [
      "\n",
      "gini: \n",
      "\n",
      "For 10.0 % test-set size: \n",
      "Train set Accuracy:  1.0\n",
      "Test set Accuracy:  0.8666666666666667\n",
      "\n",
      "For 15.0 % test-set size: \n",
      "Train set Accuracy:  1.0\n",
      "Test set Accuracy:  1.0\n",
      "\n",
      "For 20.0 % test-set size: \n",
      "Train set Accuracy:  1.0\n",
      "Test set Accuracy:  0.9666666666666667\n",
      "\n",
      "For 25.0 % test-set size: \n",
      "Train set Accuracy:  1.0\n",
      "Test set Accuracy:  0.9210526315789473\n",
      "\n",
      "For 30.0 % test-set size: \n",
      "Train set Accuracy:  1.0\n",
      "Test set Accuracy:  0.9555555555555556\n",
      "\n",
      "entropy: \n",
      "\n",
      "For 10.0 % test-set size: \n",
      "Train set Accuracy:  1.0\n",
      "Test set Accuracy:  1.0\n",
      "\n",
      "For 15.0 % test-set size: \n",
      "Train set Accuracy:  1.0\n",
      "Test set Accuracy:  0.9565217391304348\n",
      "\n",
      "For 20.0 % test-set size: \n",
      "Train set Accuracy:  1.0\n",
      "Test set Accuracy:  1.0\n",
      "\n",
      "For 25.0 % test-set size: \n",
      "Train set Accuracy:  1.0\n",
      "Test set Accuracy:  0.9736842105263158\n",
      "\n",
      "For 30.0 % test-set size: \n",
      "Train set Accuracy:  1.0\n",
      "Test set Accuracy:  0.9777777777777777\n"
     ]
    }
   ],
   "source": [
    "for criteria in criterion:\n",
    "    print(f'\\n{criteria}: ')\n",
    "    values = []\n",
    "    for test_size in test_sizes:\n",
    "        X_train, X_test, y_train, y_test = train_test_split(X, y, test_size=test_size)\n",
    "        tree_clf = DecisionTreeClassifier(criterion=criteria).fit(X_train, y_train)\n",
    "        yhat = tree_clf.predict(X_test)\n",
    "        score = metrics.accuracy_score(y_test, yhat)\n",
    "        values.append(score)\n",
    "        #Checking accuracy\n",
    "        print(f'\\nFor {test_size*100} % test-set size: ')\n",
    "        print(f'Train set Accuracy: ', metrics.accuracy_score(y_train, tree_clf.predict(X_train)))\n",
    "        print(\"Test set Accuracy: \", score)"
   ]
  },
  {
   "cell_type": "code",
   "execution_count": 24,
   "metadata": {},
   "outputs": [
    {
     "data": {
      "image/png": "[encoded data removed]",
      "text/plain": [
       "<Figure size 432x288 with 1 Axes>"
      ]
     },
     "metadata": {
      "needs_background": "light"
     },
     "output_type": "display_data"
    }
   ],
   "source": [
    "plt.plot(test_sizes, values, 'ro-')\n",
    "plt.ylabel('Accuracy score')\n",
    "plt.xlabel('Test size ratio')\n",
    "plt.show()"
   ]
  }
 ],
 "metadata": {
  "colab": {
   "name": "ML0101EN-Clas-K-Nearest-neighbors-CustCat-py-v1.ipynb",
   "provenance": [],
   "toc_visible": true
  },
  "kernelspec": {
   "display_name": "Python 3 (ipykernel)",
   "language": "python",
   "name": "python3"
  },
  "language_info": {
   "codemirror_mode": {
    "name": "ipython",
    "version": 3
   },
   "file_extension": ".py",
   "mimetype": "text/x-python",
   "name": "python",
   "nbconvert_exporter": "python",
   "pygments_lexer": "ipython3",
   "version": "3.9.7"
  }
 },
 "nbformat": 4,
 "nbformat_minor": 1
}
